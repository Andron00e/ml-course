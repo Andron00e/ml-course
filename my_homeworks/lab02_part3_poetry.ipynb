{
  "cells": [
    {
      "cell_type": "markdown",
      "metadata": {
        "id": "9sPfeDP-nL-w"
      },
      "source": [
        "## Lab 2"
      ]
    },
    {
      "cell_type": "markdown",
      "metadata": {
        "id": "Kw4nGecQnL-y"
      },
      "source": [
        "### Part 3. Poetry generation\n",
        "\n",
        "Let's try to generate some poetry using RNNs.\n",
        "\n",
        "You have several choices here:\n",
        "\n",
        "* The Shakespeare sonnets, file `sonnets.txt` available in the notebook directory.\n",
        "\n",
        "* Роман в стихах \"Евгений Онегин\" Александра Сергеевича Пушкина. В предобработанном виде доступен по [ссылке](https://github.com/attatrol/data_sources/blob/master/onegin.txt).\n",
        "\n",
        "* Some other text source, if it will be approved by the course staff.\n",
        "\n",
        "Text generation can be designed in several steps:\n",
        "    \n",
        "1. Data loading.\n",
        "2. Dictionary generation.\n",
        "3. Data preprocessing.\n",
        "4. Model (neural network) training.\n",
        "5. Text generation (model evaluation).\n"
      ]
    },
    {
      "cell_type": "code",
      "execution_count": 1,
      "metadata": {
        "id": "xbEHGDcUnL-7"
      },
      "outputs": [],
      "source": [
        "import string\n",
        "import os"
      ]
    },
    {
      "cell_type": "markdown",
      "metadata": {
        "id": "qhbhzPsCnL-8"
      },
      "source": [
        "### Data loading: Shakespeare"
      ]
    },
    {
      "cell_type": "markdown",
      "metadata": {
        "id": "E25O2bHknL-8"
      },
      "source": [
        "Shakespeare sonnets are awailable at this [link](http://www.gutenberg.org/ebooks/1041?msg=welcome_stranger). In addition, they are stored in the same directory as this notebook (`sonnetes.txt`). Simple preprocessing is already done for you in the next cell: all technical info is dropped."
      ]
    },
    {
      "cell_type": "code",
      "execution_count": 17,
      "metadata": {
        "collapsed": true,
        "id": "Po9zs5TinL-8"
      },
      "outputs": [],
      "source": [
        "if not os.path.exists('sonnets.txt'):\n",
        "    !wget https://raw.githubusercontent.com/girafe-ai/ml-course/22f_basic/homeworks_basic/lab02_deep_learning/sonnets.txt\n",
        "\n",
        "with open('sonnets.txt', 'r') as iofile:\n",
        "    text = iofile.readlines()\n",
        "\n",
        "TEXT_START = 45\n",
        "TEXT_END = -368\n",
        "text = text[TEXT_START : TEXT_END]\n",
        "assert len(text) == 2616"
      ]
    },
    {
      "cell_type": "markdown",
      "metadata": {
        "id": "Wkev_4t3nL-8"
      },
      "source": [
        "In opposite to the in-class practice, this time we want to predict complex text. Let's reduce the complexity of the task and lowercase all the symbols.\n",
        "\n",
        "Now variable `text` is a list of strings. Join all the strings into one and lowercase it."
      ]
    },
    {
      "cell_type": "code",
      "execution_count": 18,
      "metadata": {
        "colab": {
          "base_uri": "https://localhost:8080/"
        },
        "id": "eH4B51CUnL-8",
        "outputId": "cf7d4b62-75e1-4cf9-ca2c-e282702bea9b"
      },
      "outputs": [
        {
          "output_type": "stream",
          "name": "stdout",
          "text": [
            "OK!\n"
          ]
        }
      ],
      "source": [
        "# Join all the strings into one and lowercase it\n",
        "# Put result into variable text.\n",
        "\n",
        "# Your great code here\n",
        "text = (''.join(text)).lower()\n",
        "\n",
        "assert len(text) == 100225, 'Are you sure you have concatenated all the strings?'\n",
        "assert not any([x in set(text) for x in string.ascii_uppercase]), 'Uppercase letters are present'\n",
        "print('OK!')"
      ]
    },
    {
      "cell_type": "markdown",
      "metadata": {
        "id": "IRECSfX6nL-9"
      },
      "source": [
        "### Data loading: \"Евгений Онегин\"\n"
      ]
    },
    {
      "cell_type": "code",
      "execution_count": 2,
      "metadata": {
        "colab": {
          "base_uri": "https://localhost:8080/"
        },
        "id": "M7HrQhT9nL-9",
        "outputId": "5d1fc14c-00f1-4c6b-fcfc-c87067847884"
      },
      "outputs": [
        {
          "output_type": "stream",
          "name": "stdout",
          "text": [
            "--2023-12-14 08:45:58--  https://raw.githubusercontent.com/attatrol/data_sources/master/onegin.txt\n",
            "Resolving raw.githubusercontent.com (raw.githubusercontent.com)... 185.199.108.133, 185.199.109.133, 185.199.110.133, ...\n",
            "Connecting to raw.githubusercontent.com (raw.githubusercontent.com)|185.199.108.133|:443... connected.\n",
            "HTTP request sent, awaiting response... 200 OK\n",
            "Length: 262521 (256K) [text/plain]\n",
            "Saving to: ‘onegin.txt’\n",
            "\n",
            "onegin.txt          100%[===================>] 256.37K  --.-KB/s    in 0.03s   \n",
            "\n",
            "2023-12-14 08:45:59 (7.77 MB/s) - ‘onegin.txt’ saved [262521/262521]\n",
            "\n"
          ]
        }
      ],
      "source": [
        "!wget https://raw.githubusercontent.com/attatrol/data_sources/master/onegin.txt\n",
        "\n",
        "with open('onegin.txt', 'r') as iofile:\n",
        "    text = iofile.readlines()\n",
        "\n",
        "text = [x.replace('\\t\\t', '') for x in text]"
      ]
    },
    {
      "cell_type": "markdown",
      "metadata": {
        "id": "FcKjfPNCnL-9"
      },
      "source": [
        "In opposite to the in-class practice, this time we want to predict complex text. Let's reduce the complexity of the task and lowercase all the symbols.\n",
        "\n",
        "Now variable `text` is a list of strings. Join all the strings into one and lowercase it."
      ]
    },
    {
      "cell_type": "code",
      "execution_count": 3,
      "metadata": {
        "id": "AZLnRwwxnL-9"
      },
      "outputs": [],
      "source": [
        "# Join all the strings into one and lowercase it\n",
        "# Put result into variable text.\n",
        "\n",
        "# Your great code here\n",
        "text = (''.join(text)).lower()"
      ]
    },
    {
      "cell_type": "markdown",
      "metadata": {
        "id": "NvBS95nGnL--"
      },
      "source": [
        "Put all the characters, that you've seen in the text, into variable `tokens`."
      ]
    },
    {
      "cell_type": "code",
      "execution_count": 4,
      "metadata": {
        "id": "FzPsyS0LnL--"
      },
      "outputs": [],
      "source": [
        "#tokens = sorted(set(out))\n",
        "tokens = sorted(set(text))"
      ]
    },
    {
      "cell_type": "markdown",
      "metadata": {
        "id": "AKhh_8VQnL--"
      },
      "source": [
        "Create dictionary `token_to_idx = {<char>: <index>}` and dictionary `idx_to_token = {<index>: <char>}`"
      ]
    },
    {
      "cell_type": "code",
      "execution_count": 75,
      "metadata": {
        "collapsed": true,
        "id": "nXkqZcDMnL--"
      },
      "outputs": [],
      "source": [
        "# dict <index>:<char>\n",
        "# Your great code here\n",
        "id2tok = {id: tok for id, tok in enumerate(tokens)}\n",
        "# dict <char>:<index>\n",
        "# Your great code here\n",
        "tok2id = {tok: i for i, tok in enumerate(tokens)}"
      ]
    },
    {
      "cell_type": "markdown",
      "metadata": {
        "id": "QajixRK9nL--"
      },
      "source": [
        "*Comment: in this task we have only 38 different tokens, so let's use one-hot encoding.*"
      ]
    },
    {
      "cell_type": "markdown",
      "metadata": {
        "id": "AGRlTXIznL--"
      },
      "source": [
        "### Building the model"
      ]
    },
    {
      "cell_type": "markdown",
      "metadata": {
        "id": "1cL5TgjBnL--"
      },
      "source": [
        "Now we want to build and train recurrent neural net which would be able to something similar to Shakespeare's poetry.\n",
        "\n",
        "Let's use vanilla RNN, similar to the one created during the lesson."
      ]
    },
    {
      "cell_type": "code",
      "execution_count": null,
      "metadata": {
        "collapsed": true,
        "id": "pOTdRtpVnL--"
      },
      "outputs": [],
      "source": [
        "# Your code here"
      ]
    },
    {
      "cell_type": "code",
      "source": [
        "import numpy as np\n",
        "\n",
        "def to_matrix(rows, max_len=None, pad=tok2id[' '], dtype='int32', batch_first = True):\n",
        "\n",
        "    max_len = (max_len or max(map(len, rows)))\n",
        "    rows_ids = np.zeros([len(rows), max_len], dtype) + pad\n",
        "\n",
        "    for i in range(len(rows)):\n",
        "        line_ids = [tok2id[c] for c in rows[i]]\n",
        "        rows_ids[i, :len(line_ids)] = line_ids\n",
        "\n",
        "    if not batch_first:\n",
        "        rows_ids = np.transpose(rows_ids)\n",
        "\n",
        "    return rows_ids"
      ],
      "metadata": {
        "id": "qSizHB7-vJ2h"
      },
      "execution_count": 8,
      "outputs": []
    },
    {
      "cell_type": "code",
      "source": [
        "import re\n",
        "\n",
        "rows = re.split('\\n\\n\\s*[a-z]*\\n\\n', text)\n",
        "temp = []\n",
        "for i in range(0, len(rows)):\n",
        "  if len(rows[i]) > 590:\n",
        "    temp.append(rows[i])\n",
        "\n",
        "rows = temp"
      ],
      "metadata": {
        "id": "LCbvSe5rvnGu"
      },
      "execution_count": 9,
      "outputs": []
    },
    {
      "cell_type": "code",
      "source": [
        "to_matrix(rows, max_len=2473)"
      ],
      "metadata": {
        "colab": {
          "base_uri": "https://localhost:8080/"
        },
        "id": "x04z4qyFkvPL",
        "outputId": "69d68fe2-5f92-45cd-b68b-dda87fd0c81c"
      },
      "execution_count": 12,
      "outputs": [
        {
          "output_type": "execute_result",
          "data": {
            "text/plain": [
              "array([[60, 53, 62, ..., 76, 75, 81],\n",
              "       [45,  1, 59, ...,  1,  1,  1]], dtype=int32)"
            ]
          },
          "metadata": {},
          "execution_count": 12
        }
      ]
    },
    {
      "cell_type": "code",
      "source": [
        "import torch\n",
        "import torch.nn as nn\n",
        "import torch.nn.functional as F\n",
        "import matplotlib.pyplot as plt\n",
        "\n",
        "class CharRNNCell(nn.Module):\n",
        "    def __init__(self, input_dim=len(tokens), out_dim=128, sequence_length=10):\n",
        "        super(self.__class__, self).__init__()\n",
        "        self.sequence_length = sequence_length\n",
        "        self.embedding = nn.Embedding(input_dim, out_dim)\n",
        "        self.rnn_update = nn.Linear(out_dim + sequence_length, sequence_length)\n",
        "        self.rnn_to_logits = nn.Linear(sequence_length, input_dim)\n",
        "\n",
        "    def forward(self, x, prev):\n",
        "        x = self.embedding(x)\n",
        "        x = torch.cat([x, prev], dim=1)\n",
        "        next = self.rnn_update(x)\n",
        "        next = torch.tanh(next)\n",
        "        logits = self.rnn_to_logits(next)\n",
        "        return F.log_softmax(logits, -1), next\n",
        "\n",
        "    def initial_hidden(self, batch_size):\n",
        "        start = torch.zeros(batch_size, self.sequence_length, requires_grad=True)\n",
        "        return start"
      ],
      "metadata": {
        "id": "KdQO7tpCwK5B"
      },
      "execution_count": 13,
      "outputs": []
    },
    {
      "cell_type": "code",
      "source": [
        "def loop(rnn_model, batch):\n",
        "    batch_size, max_len = batch.shape\n",
        "    hidden_state = rnn_model.initial_hidden(batch_size)\n",
        "    probs = []\n",
        "    for i in batch.transpose(0, 1):\n",
        "        logit, hidden_state = rnn_model(i, hidden_state)\n",
        "        probs.append(logit)\n",
        "    return torch.stack(probs, dim=1)"
      ],
      "metadata": {
        "id": "wLH5EVX60Tgc"
      },
      "execution_count": 14,
      "outputs": []
    },
    {
      "cell_type": "code",
      "source": [
        "rnn_cell = CharRNNCell()\n",
        "criterion = nn.NLLLoss()\n",
        "opt = torch.optim.Adam(rnn_cell.parameters(), lr=0.001)"
      ],
      "metadata": {
        "id": "3h4d0FzB1ZFJ"
      },
      "execution_count": 16,
      "outputs": []
    },
    {
      "cell_type": "code",
      "source": [
        "class RNNDataset(torch.utils.data.Dataset):\n",
        "    def __init__(self, sequence_length=10):\n",
        "        self.sequence_length = sequence_length\n",
        "        self.text = [tok2id[c] for c in text]\n",
        "\n",
        "    def __len__(self):\n",
        "        return len(self.text) - self.sequence_length\n",
        "\n",
        "    def __getitem__(self, index):\n",
        "        return (\n",
        "            torch.tensor(self.text[index:index+self.sequence_length]),\n",
        "            torch.tensor(self.text[index+1:index+self.sequence_length+1]),\n",
        "        )"
      ],
      "metadata": {
        "id": "_EaLwoVwn6LC"
      },
      "execution_count": 18,
      "outputs": []
    },
    {
      "cell_type": "code",
      "source": [
        "SEQUENCE_LENGTH = 15\n",
        "BATCH_SIZE = 32\n",
        "NUM_EPOCHS = 20\n",
        "\n",
        "dataset = RNNDataset(sequence_length=SEQUENCE_LENGTH)\n",
        "dataloader = torch.utils.data.DataLoader(dataset, batch_size=BATCH_SIZE)"
      ],
      "metadata": {
        "id": "6XrwhyL9oLNL"
      },
      "execution_count": 19,
      "outputs": []
    },
    {
      "cell_type": "code",
      "source": [
        "for batch in dataloader:\n",
        "    print(batch)\n",
        "    break"
      ],
      "metadata": {
        "colab": {
          "base_uri": "https://localhost:8080/"
        },
        "id": "6VCEPc9KokxF",
        "outputId": "8e4ecc0d-4eb2-4985-a285-30a7a4617497"
      },
      "execution_count": 20,
      "outputs": [
        {
          "output_type": "stream",
          "name": "stdout",
          "text": [
            "[tensor([[ 0, 26,  0,  0, 43, 57, 59, 54,  1, 49, 76, 49, 76,  1, 62],\n",
            "        [26,  0,  0, 43, 57, 59, 54,  1, 49, 76, 49, 76,  1, 62, 45],\n",
            "        [ 0,  0, 43, 57, 59, 54,  1, 49, 76, 49, 76,  1, 62, 45, 57],\n",
            "        [ 0, 43, 57, 59, 54,  1, 49, 76, 49, 76,  1, 62, 45, 57, 72],\n",
            "        [43, 57, 59, 54,  1, 49, 76, 49, 76,  1, 62, 45, 57, 72, 66],\n",
            "        [57, 59, 54,  1, 49, 76, 49, 76,  1, 62, 45, 57, 72, 66,  1],\n",
            "        [59, 54,  1, 49, 76, 49, 76,  1, 62, 45, 57, 72, 66,  1, 68],\n",
            "        [54,  1, 49, 76, 49, 76,  1, 62, 45, 57, 72, 66,  1, 68, 50],\n",
            "        [ 1, 49, 76, 49, 76,  1, 62, 45, 57, 72, 66,  1, 68, 50, 62],\n",
            "        [49, 76, 49, 76,  1, 62, 45, 57, 72, 66,  1, 68, 50, 62, 63],\n",
            "        [76, 49, 76,  1, 62, 45, 57, 72, 66,  1, 68, 50, 62, 63, 58],\n",
            "        [49, 76,  1, 62, 45, 57, 72, 66,  1, 68, 50, 62, 63, 58, 72],\n",
            "        [76,  1, 62, 45, 57, 72, 66,  1, 68, 50, 62, 63, 58, 72, 66],\n",
            "        [ 1, 62, 45, 57, 72, 66,  1, 68, 50, 62, 63, 58, 72, 66,  1],\n",
            "        [62, 45, 57, 72, 66,  1, 68, 50, 62, 63, 58, 72, 66,  1, 60],\n",
            "        [45, 57, 72, 66,  1, 68, 50, 62, 63, 58, 72, 66,  1, 60, 61],\n",
            "        [57, 72, 66,  1, 68, 50, 62, 63, 58, 72, 66,  1, 60, 61, 45],\n",
            "        [72, 66,  1, 68, 50, 62, 63, 58, 72, 66,  1, 60, 61, 45, 47],\n",
            "        [66,  1, 68, 50, 62, 63, 58, 72, 66,  1, 60, 61, 45, 47, 53],\n",
            "        [ 1, 68, 50, 62, 63, 58, 72, 66,  1, 60, 61, 45, 47, 53, 56],\n",
            "        [68, 50, 62, 63, 58, 72, 66,  1, 60, 61, 45, 47, 53, 56,  5],\n",
            "        [50, 62, 63, 58, 72, 66,  1, 60, 61, 45, 47, 53, 56,  5,  0],\n",
            "        [62, 63, 58, 72, 66,  1, 60, 61, 45, 47, 53, 56,  5,  0, 55],\n",
            "        [63, 58, 72, 66,  1, 60, 61, 45, 47, 53, 56,  5,  0, 55, 59],\n",
            "        [58, 72, 66,  1, 60, 61, 45, 47, 53, 56,  5,  0, 55, 59, 48],\n",
            "        [72, 66,  1, 60, 61, 45, 47, 53, 56,  5,  0, 55, 59, 48, 49],\n",
            "        [66,  1, 60, 61, 45, 47, 53, 56,  5,  0, 55, 59, 48, 49, 45],\n",
            "        [ 1, 60, 61, 45, 47, 53, 56,  5,  0, 55, 59, 48, 49, 45,  1],\n",
            "        [60, 61, 45, 47, 53, 56,  5,  0, 55, 59, 48, 49, 45,  1, 58],\n",
            "        [61, 45, 47, 53, 56,  5,  0, 55, 59, 48, 49, 45,  1, 58, 50],\n",
            "        [45, 47, 53, 56,  5,  0, 55, 59, 48, 49, 45,  1, 58, 50,  1],\n",
            "        [47, 53, 56,  5,  0, 55, 59, 48, 49, 45,  1, 58, 50,  1, 47]]), tensor([[26,  0,  0, 43, 57, 59, 54,  1, 49, 76, 49, 76,  1, 62, 45],\n",
            "        [ 0,  0, 43, 57, 59, 54,  1, 49, 76, 49, 76,  1, 62, 45, 57],\n",
            "        [ 0, 43, 57, 59, 54,  1, 49, 76, 49, 76,  1, 62, 45, 57, 72],\n",
            "        [43, 57, 59, 54,  1, 49, 76, 49, 76,  1, 62, 45, 57, 72, 66],\n",
            "        [57, 59, 54,  1, 49, 76, 49, 76,  1, 62, 45, 57, 72, 66,  1],\n",
            "        [59, 54,  1, 49, 76, 49, 76,  1, 62, 45, 57, 72, 66,  1, 68],\n",
            "        [54,  1, 49, 76, 49, 76,  1, 62, 45, 57, 72, 66,  1, 68, 50],\n",
            "        [ 1, 49, 76, 49, 76,  1, 62, 45, 57, 72, 66,  1, 68, 50, 62],\n",
            "        [49, 76, 49, 76,  1, 62, 45, 57, 72, 66,  1, 68, 50, 62, 63],\n",
            "        [76, 49, 76,  1, 62, 45, 57, 72, 66,  1, 68, 50, 62, 63, 58],\n",
            "        [49, 76,  1, 62, 45, 57, 72, 66,  1, 68, 50, 62, 63, 58, 72],\n",
            "        [76,  1, 62, 45, 57, 72, 66,  1, 68, 50, 62, 63, 58, 72, 66],\n",
            "        [ 1, 62, 45, 57, 72, 66,  1, 68, 50, 62, 63, 58, 72, 66,  1],\n",
            "        [62, 45, 57, 72, 66,  1, 68, 50, 62, 63, 58, 72, 66,  1, 60],\n",
            "        [45, 57, 72, 66,  1, 68, 50, 62, 63, 58, 72, 66,  1, 60, 61],\n",
            "        [57, 72, 66,  1, 68, 50, 62, 63, 58, 72, 66,  1, 60, 61, 45],\n",
            "        [72, 66,  1, 68, 50, 62, 63, 58, 72, 66,  1, 60, 61, 45, 47],\n",
            "        [66,  1, 68, 50, 62, 63, 58, 72, 66,  1, 60, 61, 45, 47, 53],\n",
            "        [ 1, 68, 50, 62, 63, 58, 72, 66,  1, 60, 61, 45, 47, 53, 56],\n",
            "        [68, 50, 62, 63, 58, 72, 66,  1, 60, 61, 45, 47, 53, 56,  5],\n",
            "        [50, 62, 63, 58, 72, 66,  1, 60, 61, 45, 47, 53, 56,  5,  0],\n",
            "        [62, 63, 58, 72, 66,  1, 60, 61, 45, 47, 53, 56,  5,  0, 55],\n",
            "        [63, 58, 72, 66,  1, 60, 61, 45, 47, 53, 56,  5,  0, 55, 59],\n",
            "        [58, 72, 66,  1, 60, 61, 45, 47, 53, 56,  5,  0, 55, 59, 48],\n",
            "        [72, 66,  1, 60, 61, 45, 47, 53, 56,  5,  0, 55, 59, 48, 49],\n",
            "        [66,  1, 60, 61, 45, 47, 53, 56,  5,  0, 55, 59, 48, 49, 45],\n",
            "        [ 1, 60, 61, 45, 47, 53, 56,  5,  0, 55, 59, 48, 49, 45,  1],\n",
            "        [60, 61, 45, 47, 53, 56,  5,  0, 55, 59, 48, 49, 45,  1, 58],\n",
            "        [61, 45, 47, 53, 56,  5,  0, 55, 59, 48, 49, 45,  1, 58, 50],\n",
            "        [45, 47, 53, 56,  5,  0, 55, 59, 48, 49, 45,  1, 58, 50,  1],\n",
            "        [47, 53, 56,  5,  0, 55, 59, 48, 49, 45,  1, 58, 50,  1, 47],\n",
            "        [53, 56,  5,  0, 55, 59, 48, 49, 45,  1, 58, 50,  1, 47,  1]])]\n"
          ]
        }
      ]
    },
    {
      "cell_type": "markdown",
      "metadata": {
        "id": "RR6VU3HanL--"
      },
      "source": [
        "Plot the loss function (axis X: number of epochs, axis Y: loss function)."
      ]
    },
    {
      "cell_type": "code",
      "execution_count": 24,
      "metadata": {
        "collapsed": true,
        "colab": {
          "base_uri": "https://localhost:8080/",
          "height": 49,
          "referenced_widgets": [
            "37fe303470974b8fa3275cb20131375f",
            "28cc9a34002947a88e95939b50e4893b",
            "0b088fdc654047caa6802dd45c3493a5",
            "7caf6fc0e4a740de871238b93977af4f",
            "6e9fcd348c064f6d9e38c0a0792f1f33",
            "7165f805beaf4d8184e0d1c6d1231867",
            "aef1b2ac4c7b40149b6925af05b78466",
            "37a145e0caff4c839bb4736164ba3d08",
            "64769b3d2ccc41eb89d5ef1305b20be7",
            "a6cb4aa316594eefbff2dc2e20c04ae7",
            "e9a8185ecd5141bb9634dab61f909bb9"
          ]
        },
        "id": "0EANjuZlnL--",
        "outputId": "d482a93c-6979-46b7-a6ad-4c4c470b56b6"
      },
      "outputs": [
        {
          "output_type": "display_data",
          "data": {
            "text/plain": [
              "  0%|          | 0/20 [00:00<?, ?it/s]"
            ],
            "application/vnd.jupyter.widget-view+json": {
              "version_major": 2,
              "version_minor": 0,
              "model_id": "37fe303470974b8fa3275cb20131375f"
            }
          },
          "metadata": {}
        }
      ],
      "source": [
        "# Your plot code here\n",
        "from tqdm.auto import tqdm\n",
        "\n",
        "def full_loop(rnn_cell, num_epochs: int, loader, optimizer, crtiterion, history):\n",
        "    rnn_cell.train()\n",
        "    for epoch in tqdm(range(NUM_EPOCHS)):\n",
        "        h = rnn_cell.initial_hidden(SEQUENCE_LENGTH)\n",
        "        for inputs, labels in dataloader:\n",
        "            preds = loop(rnn_cell, inputs)\n",
        "            actual_next_tokens = torch.LongTensor(labels)\n",
        "            loss = criterion(\n",
        "              preds.contiguous().view(-1, len(tokens)),\n",
        "              actual_next_tokens.contiguous().view(-1)\n",
        "            )\n",
        "\n",
        "            optimizer.zero_grad()\n",
        "            loss.backward()\n",
        "            optimizer.step()\n",
        "        history.append(loss.item())\n",
        "\n",
        "losses = []\n",
        "full_loop(rnn_cell, NUM_EPOCHS, dataloader, opt, criterion, losses)"
      ]
    },
    {
      "cell_type": "code",
      "source": [
        "fig, ax = plt.subplots(figsize=(7, 4))\n",
        "ax.plot(losses)\n",
        "ax.set_xlabel(\"epochs\")\n",
        "ax.set_ylabel(\"Loss\")\n",
        "plt.show()"
      ],
      "metadata": {
        "colab": {
          "base_uri": "https://localhost:8080/",
          "height": 388
        },
        "id": "HrXSGlXzrjfe",
        "outputId": "50e49e88-acae-4bfe-d844-87fb73f828f3"
      },
      "execution_count": 26,
      "outputs": [
        {
          "output_type": "display_data",
          "data": {
            "text/plain": [
              "<Figure size 700x400 with 1 Axes>"
            ],
            "image/png": "[encoded data removed]"
          },
          "metadata": {}
        }
      ]
    },
    {
      "cell_type": "code",
      "execution_count": 43,
      "metadata": {
        "id": "HQEiXimCnL--"
      },
      "outputs": [],
      "source": [
        "MAX_LENGTH = 100\n",
        "\n",
        "def generate_sample(char_rnn, seed_phrase=' Hello', max_length=MAX_LENGTH, temperature=1.0):\n",
        "    '''\n",
        "    ### Disclaimer: this is an example function for text generation.\n",
        "    ### You can either adapt it in your code or create your own function\n",
        "\n",
        "    The function generates text given a phrase of length at least SEQ_LENGTH.\n",
        "    :param seed_phrase: prefix characters. The RNN is asked to continue the phrase\n",
        "    :param max_length: maximum output length, including seed_phrase\n",
        "    :param temperature: coefficient for sampling.  higher temperature produces more chaotic outputs,\n",
        "        smaller temperature converges to the single most likely output.\n",
        "\n",
        "    Be careful with the model output. This model waits logits (not probabilities/log-probabilities)\n",
        "    of the next symbol.\n",
        "    '''\n",
        "\n",
        "    #x_sequence = [token_to_id[token] for token in seed_phrase]\n",
        "    x_sequence = [tok2id[token] for token in seed_phrase]\n",
        "    x_sequence = torch.tensor([x_sequence], dtype=torch.int64)\n",
        "    #hid_state = char_rnn.initial_state(batch_size=1)\n",
        "    hid_state = char_rnn.initial_hidden(batch_size=1)\n",
        "\n",
        "    #feed the seed phrase, if any\n",
        "    for i in range(len(seed_phrase) - 1):\n",
        "        # print(x_sequence[:, -1].shape, hid_state.shape)\n",
        "        out, hid_state = char_rnn(x_sequence[:, i], hid_state)\n",
        "\n",
        "    #start generating\n",
        "    for _ in range(max_length - len(seed_phrase)):\n",
        "        # print(x_sequence.shape, x_sequence, hid_state.shape)\n",
        "        out, hid_state = char_rnn(x_sequence[:, -1], hid_state)\n",
        "        # Be really careful here with the model output\n",
        "        p_next = F.softmax(out / temperature, dim=-1).data.numpy()[0]\n",
        "\n",
        "        # sample next token and push it back into x_sequence\n",
        "        # print(p_next.shape, len(tokens))\n",
        "        next_ix = np.random.choice(len(tokens), p=p_next)\n",
        "        next_ix = torch.tensor([[next_ix]], dtype=torch.int64)\n",
        "        # print(x_sequence.shape, next_ix.shape)\n",
        "        x_sequence = torch.cat([x_sequence, next_ix], dim=1)\n",
        "\n",
        "    return ''.join([tokens[ix] for ix in x_sequence.data.numpy()[0]])"
      ]
    },
    {
      "cell_type": "code",
      "source": [
        "print(generate_sample(rnn_cell, seed_phrase=\"To be, or not to be\".lower(), max_length=100, temperature=1.0))"
      ],
      "metadata": {
        "colab": {
          "base_uri": "https://localhost:8080/"
        },
        "id": "nrdoeRUtuFtL",
        "outputId": "b3427744-0ebf-4bd7-d203-4db5119b4c18"
      },
      "execution_count": 45,
      "outputs": [
        {
          "output_type": "stream",
          "name": "stdout",
          "text": [
            "to be, or not to berxxi\n",
            "\n",
            "у на\n",
            "тона, в сели дат, евдири, недавоел\n",
            "в нцогрить\n",
            "обищевладам пумо кохи ня\n"
          ]
        }
      ]
    },
    {
      "cell_type": "code",
      "source": [
        "print(generate_sample(rnn_cell, seed_phrase=\"To be, or not to be\".lower(), max_length=100, temperature=0.2))"
      ],
      "metadata": {
        "colab": {
          "base_uri": "https://localhost:8080/"
        },
        "id": "EP95R0SawTfr",
        "outputId": "1aecdf56-6b81-4348-d25c-bda63e3d30bb"
      },
      "execution_count": 46,
      "outputs": [
        {
          "output_type": "stream",
          "name": "stdout",
          "text": [
            "to be, or not to bene в не не просто ста в вели сени стат мова с водна не в в боста в сто во в поста\n"
          ]
        }
      ]
    },
    {
      "cell_type": "code",
      "source": [
        "print(generate_sample(rnn_cell, seed_phrase=\"баба с возy\".lower(), max_length=100, temperature=0.2))"
      ],
      "metadata": {
        "colab": {
          "base_uri": "https://localhost:8080/"
        },
        "id": "ajiWBVZmwaAg",
        "outputId": "8ff10e82-9efd-4c3b-907e-2d17093afeef"
      },
      "execution_count": 47,
      "outputs": [
        {
          "output_type": "stream",
          "name": "stdout",
          "text": [
            "баба с возyю стат не ста сто в ста сто сто в и не не не в стань сто и не на не в свостат в пола стал\n"
          ]
        }
      ]
    },
    {
      "cell_type": "code",
      "execution_count": null,
      "metadata": {
        "id": "EgHSCejrnL--",
        "outputId": "929d63e3-7f8a-43b2-e851-44eb12069041"
      },
      "outputs": [
        {
          "name": "stdout",
          "output_type": "stream",
          "text": [
            "hide my will in thine?\n",
            "  shall will in of the simend that in my sime the seave the seave the sorll the soren the sange the seall seares and and the fart the wirl the seall the songh whing that thou hall will thoun the soond beare the with that sare the simest me the fart the wirl the songre the with thy seart so for shat so for do the dost the sing the sing the sing the soond canding the sack and the farling the wirl of sore sich and that with the seare the seall so fort the with the past the wirl the simen the wirl the sores the sare\n"
          ]
        }
      ],
      "source": [
        "# An example of generated text.\n",
        "# print(generate_text(length=500, temperature=0.2))"
      ]
    },
    {
      "cell_type": "markdown",
      "metadata": {
        "id": "clITARcjnL--"
      },
      "source": [
        "### More poetic model\n",
        "\n",
        "Let's use LSTM instead of vanilla RNN and compare the results."
      ]
    },
    {
      "cell_type": "markdown",
      "metadata": {
        "id": "2gWzH1ajnL-_"
      },
      "source": [
        "Plot the loss function of the number of epochs. Does the final loss become better?"
      ]
    },
    {
      "cell_type": "code",
      "execution_count": 51,
      "metadata": {
        "collapsed": true,
        "id": "S62ZsRRKnL-_"
      },
      "outputs": [],
      "source": [
        "# Your beautiful code here\n",
        "\n",
        "class LSTM(nn.Module):\n",
        "    def __init__(self, input_dim=len(tokens), out_dim=128, num_layers=1):\n",
        "        super(self.__class__, self).__init__()\n",
        "        self.out_dim = out_dim\n",
        "        self.num_layers = num_layers\n",
        "        self.embedding = nn.Embedding(input_dim, self.out_dim)\n",
        "        self.lstm = nn.LSTM(\n",
        "            input_size=self.out_dim,\n",
        "            hidden_size=self.out_dim,\n",
        "            num_layers=self.num_layers\n",
        "        )\n",
        "        self.rnn_to_logit = nn.Linear(self.out_dim, input_dim)\n",
        "\n",
        "    def forward(self, x, prev):\n",
        "        emb = self.embedding(x)\n",
        "        out, next = self.lstm(emb, prev)\n",
        "        logits = self.rnn_to_logit(out)\n",
        "        return logits, next\n",
        "\n",
        "    def initial_hidden(self, sequence_length):\n",
        "        return (torch.zeros(self.num_layers, sequence_length, self.out_dim),\n",
        "                torch.zeros(self.num_layers, sequence_length, self.out_dim))"
      ]
    },
    {
      "cell_type": "code",
      "source": [
        "model = LSTM()\n",
        "optimizer = torch.optim.Adam(model.parameters(), lr=0.001)\n",
        "criterion = nn.CrossEntropyLoss()\n",
        "losses = []\n",
        "\n",
        "def lstm_loop(model, num_epochs: int, sequence_length, loader, optimizer, crtiterion, history):\n",
        "    model.train()\n",
        "    for epoch in tqdm(range(num_epochs)):\n",
        "        (hid, curr) = model.initial_hidden(sequence_length)\n",
        "        for inputs, labels in dataloader:\n",
        "            optimizer.zero_grad()\n",
        "            preds, (h, c) = model(torch.LongTensor(inputs), (hid, curr))\n",
        "            loss = criterion(preds.transpose(1, 2), torch.LongTensor(labels))\n",
        "            hid.detach_()\n",
        "            curr.detach_()\n",
        "            loss.backward()\n",
        "            optimizer.step()\n",
        "        history.append(loss.item())\n",
        "\n",
        "lstm_loop(model, NUM_EPOCHS, SEQUENCE_LENGTH, dataloader, optimizer, criterion, losses)"
      ],
      "metadata": {
        "colab": {
          "base_uri": "https://localhost:8080/",
          "height": 49,
          "referenced_widgets": [
            "32e671fbc8ee45a4a6777c15fa92db78",
            "98bfae61fd7b4d7a9c470ec30c50fb2c",
            "b36ee55c6cdd4fd49f08d3bffab739d5",
            "07d9149ae8c74713b6e9b56e701ae49e",
            "2621815892b54f9fb0af81c7ad0f7688",
            "e47121c88983494db07416ec17045119",
            "1fb27f55dd25407c9f56f31cde3ae099",
            "52b03531b2544bb8a321cc716f4fe532",
            "eb1bacccdfe9474085e392fae5aa756b",
            "5b39de168f194cb79353b41e9975c478",
            "78a17584201343ff8d1fa0b9566df05a"
          ]
        },
        "id": "xiUDOhQLxTol",
        "outputId": "4540d78f-c780-43b5-fa30-0b22e147cbe8"
      },
      "execution_count": 52,
      "outputs": [
        {
          "output_type": "display_data",
          "data": {
            "text/plain": [
              "  0%|          | 0/20 [00:00<?, ?it/s]"
            ],
            "application/vnd.jupyter.widget-view+json": {
              "version_major": 2,
              "version_minor": 0,
              "model_id": "32e671fbc8ee45a4a6777c15fa92db78"
            }
          },
          "metadata": {}
        }
      ]
    },
    {
      "cell_type": "code",
      "source": [
        "fig, ax = plt.subplots(figsize=(7, 4))\n",
        "ax.plot(losses)\n",
        "ax.set_xlabel(\"epochs\")\n",
        "ax.set_ylabel(\"Loss\")\n",
        "plt.show()"
      ],
      "metadata": {
        "colab": {
          "base_uri": "https://localhost:8080/",
          "height": 388
        },
        "id": "zL4WghyhzQGt",
        "outputId": "cea04f9f-20a3-4211-83a9-c39f2ae25c0a"
      },
      "execution_count": 53,
      "outputs": [
        {
          "output_type": "display_data",
          "data": {
            "text/plain": [
              "<Figure size 700x400 with 1 Axes>"
            ],
            "image/png": "[encoded data removed]"
          },
          "metadata": {}
        }
      ]
    },
    {
      "cell_type": "code",
      "source": [
        "def generate_sample(model, seed_phrase='Hello', max_length=MAX_LENGTH, temperature=1.0):\n",
        "    model.eval()\n",
        "    hid, curr = model.initial_hidden(len(seed_phrase))\n",
        "    for i in range(0, max_length):\n",
        "        x = torch.tensor([[tok2id[c] for c in seed_phrase[i:]]])\n",
        "        preds, (hid, curr) = model(x, (hid, curr))\n",
        "        last_char_logits = preds[0][-1]\n",
        "        p = torch.nn.functional.softmax(last_char_logits / temperature, dim=0).detach().numpy()\n",
        "        char_idx = np.random.choice(len(last_char_logits), p=p)\n",
        "        seed_phrase = seed_phrase + id2tok[char_idx]\n",
        "    return seed_phrase"
      ],
      "metadata": {
        "id": "TeLEqyYvzX_T"
      },
      "execution_count": 78,
      "outputs": []
    },
    {
      "cell_type": "markdown",
      "metadata": {
        "id": "RtFL92x-nL-_"
      },
      "source": [
        "Generate text using the trained net with different `temperature` parameter: `[0.1, 0.2, 0.5, 1.0, 2.0]`.\n",
        "\n",
        "Evaluate the results visually, try to interpret them."
      ]
    },
    {
      "cell_type": "code",
      "execution_count": 79,
      "metadata": {
        "collapsed": true,
        "colab": {
          "base_uri": "https://localhost:8080/"
        },
        "id": "ZNXFRSl8nL-_",
        "outputId": "4c0d402f-9ca4-418b-a3d3-398aacd55da5"
      },
      "outputs": [
        {
          "output_type": "stream",
          "name": "stdout",
          "text": [
            "text generation with temperature T = ['письмо татьяны предо мною;\\nего я свято берегу,\\nчитаю с тайною тоскою\\nи начитаться не могу.\\nкто ей внушал и эту нежность,\\nи слов любезную небрежность?\\nкто ей внушал умильный вздор,\\nбезумный сердца разговор,\\nи увлекательный и вредный?\\nя не могу понять. но вот\\nнеполный, слабый перевод,\\nс живой картины список бледный,\\nили разыгранный фрейшиц\\nперстами робких учениц:\\n\\n\\nписьмо татьяны к онегину\\n\\nя к вам пишу – чего же боле?\\nчто я могу еще сказать?\\nтеперь, я знаю, в вашей воле\\nменя презреньем наказать.\\nно вы, к моей несчастной доле\\nхоть каплю жалости храня,\\nвы не оставите меня.\\nсначала я молчать хотела;\\nповерьте: моего стыда\\nвы не узнали б никогда,\\nкогда б надежду я имела\\nхоть редко, хоть в неделю раз\\nв деревне нашей видеть вас,\\nчтоб только слышать ваши речи,\\nвам слово молвить, и потом\\nвсё думать, думать об одном\\nи день и ночь до новой встречи.\\nно говорят, вы нелюдим;\\nв глуши, в деревне всё вам скучно,\\nа мы… ничем мы не блестим,\\nхоть вам и рады простодушно.\\n\\nзачем вы посетили нас?\\nв глуши забытого селенья\\nя никогда не знала б вас,\\nне знала б горького мученья.\\nдуши неопытной волненья\\nсмирив со временем (как знать?),\\nпо сердцу я нашла бы друга,\\nбыла бы верная супруга\\nи добродетельная мать.\\nдругой!.. нет, никому на свете\\nне отдала бы сердца я!\\nто в вышнем суждено совете…\\nто воля неба: я твоя;\\nвся жизнь моя была залогом\\nсвиданья верного с тобой;\\nя знаю, ты мне послан богом,\\nдо гроба ты хранитель мой…\\nты в сновиденьях мне являлся,\\nнезримый, ты мне был уж мил,\\nтвой чудный взгляд меня томил,\\nв душе твой голос раздавался\\nдавно… нет, это был не сон!\\nты чуть вошел, я вмиг узнала,\\nвся обомлела, запылала\\nи в мыслях молвила: вот он!\\nне правда ль? я тебя слыхала:\\nты говорил со мной в тиши,\\nкогда я бедным помогала\\nили молитвой услаждала\\nтоску волнуемой души?\\nи в это самое мгновенье\\nне ты ли, милое виденье,\\nв прозрачной темноте мелькнул,\\nприникнул тихо к изголовью?\\nне ты ль, с отрадой и любовью,\\nслова надежды мне шепнул?\\nкто ты, мой ангел ли хранитель\\nили коварный искуситель:\\nмои сомненья разреши.\\nбыть может, это всё пустое,\\nобман неопытной души!\\nи суждено совсем иное…\\nно так и быть! судьбу мою\\nотныне я тебе вручаю,\\nперед тобою слезы лью,\\nтвоей защиты умоляю…\\nвообрази: я здесь одна,\\nникто меня не понимает,\\nрассудок мой изнемогает,\\nи молча гибнуть я должна.\\nя жду тебя: единым взором\\nнадежды сердца оживи\\nиль сон тяжелый перерви,\\nувы, заслуженным укором!\\nкончаю! страшно перечесть…\\nстыдом и страхом замираю…\\nно мне порукой ваша честь,\\nи смело ей себя вверяю…', 'а он не едет; он заране\\nписать ко прадедам готов\\nо скорой встрече; а татьяне\\nи дела нет (их пол таков);\\nа он упрям, отстать не хочет,\\nеще надеется, хлопочет;\\nсмелей здорового, больной\\nкнягине слабою рукой\\nон пишет страстное посланье.\\nхоть толку мало вообще\\nон в письмах видел не вотще;\\nно, знать, сердечное страданье\\nуже пришло ему невмочь.\\nвот вам письмо его точь-в-точь.\\n\\n\\nписьмо онегина к татьяне\\n\\nпредвижу всё: вас оскорбит\\nпечальной тайны объясненье.\\nкакое горькое презренье\\nваш гордый взгляд изобразит!\\nчего хочу? с какою целью\\nоткрою душу вам свою?\\nкакому злобному веселью,\\nбыть может, повод подаю!\\n\\nслучайно вас когда-то встретя,\\nв вас искру нежности заметя,\\nя ей поверить не посмел:\\nпривычке милой не дал ходу;\\nсвою постылую свободу\\nя потерять не захотел.\\nеще одно нас разлучило…\\nнесчастной жертвой ленский пал…\\nото всего, что сердцу мило,\\nтогда я сердце оторвал;\\nчужой для всех, ничем не связан,\\nя думал: вольность и покой\\nзамена счастью. боже мой!\\nкак я ошибся, как наказан…\\n\\nнет, поминутно видеть вас,\\nповсюду следовать за вами,\\nулыбку уст, движенье глаз\\nловить влюбленными глазами,\\nвнимать вам долго, понимать\\nдушой все ваше совершенство,\\nпред вами в муках замирать,\\nбледнеть и гаснуть… вот блаженство!\\n\\nи я лишен того: для вас\\nтащусь повсюду наудачу;\\nмне дорог день, мне дорог час:\\nа я в напрасной скуке трачу\\nсудьбой отсчитанные дни.\\nи так уж тягостны они.\\nя знаю: век уж мой измерен;\\nно чтоб продлилась жизнь моя,\\nя утром должен быть уверен,\\nчто с вами днем увижусь я…\\n\\nбоюсь, в мольбе моей смиренной\\nувидит ваш суровый взор\\nзатеи хитрости презренной —\\nи слышу гневный ваш укор.\\nкогда б вы знали, как ужасно\\nтомиться жаждою любви,\\nпылать – и разумом всечасно\\nсмирять волнение в крови;\\nжелать обнять у вас колени\\nи, зарыдав, у ваших ног\\nизлить мольбы, признанья, пени,\\nвсё, всё, что выразить бы мог,\\nа между тем притворным хладом\\nвооружать и речь и взор,\\nвести спокойный разговор,\\nглядеть на вас веселым взглядом!..\\nно так и быть: я сам себе\\nпротивиться не в силах боле;\\nвсё решено: я в вашей воле,\\nи предаюсь моей судьбе.']\n",
            "мама мыла мой страсти не свободной\n",
            "я с ним проститель с ним страсти не сладкой\n",
            "с каким слезами страсти прости. к том,\n",
            "как страдает с ним свете, в садая мой должны,\n",
            "и так же тем с ним страсти не свободной\n",
            "я стр\n",
            "\n",
            "text generation with temperature T = ['письмо татьяны предо мною;\\nего я свято берегу,\\nчитаю с тайною тоскою\\nи начитаться не могу.\\nкто ей внушал и эту нежность,\\nи слов любезную небрежность?\\nкто ей внушал умильный вздор,\\nбезумный сердца разговор,\\nи увлекательный и вредный?\\nя не могу понять. но вот\\nнеполный, слабый перевод,\\nс живой картины список бледный,\\nили разыгранный фрейшиц\\nперстами робких учениц:\\n\\n\\nписьмо татьяны к онегину\\n\\nя к вам пишу – чего же боле?\\nчто я могу еще сказать?\\nтеперь, я знаю, в вашей воле\\nменя презреньем наказать.\\nно вы, к моей несчастной доле\\nхоть каплю жалости храня,\\nвы не оставите меня.\\nсначала я молчать хотела;\\nповерьте: моего стыда\\nвы не узнали б никогда,\\nкогда б надежду я имела\\nхоть редко, хоть в неделю раз\\nв деревне нашей видеть вас,\\nчтоб только слышать ваши речи,\\nвам слово молвить, и потом\\nвсё думать, думать об одном\\nи день и ночь до новой встречи.\\nно говорят, вы нелюдим;\\nв глуши, в деревне всё вам скучно,\\nа мы… ничем мы не блестим,\\nхоть вам и рады простодушно.\\n\\nзачем вы посетили нас?\\nв глуши забытого селенья\\nя никогда не знала б вас,\\nне знала б горького мученья.\\nдуши неопытной волненья\\nсмирив со временем (как знать?),\\nпо сердцу я нашла бы друга,\\nбыла бы верная супруга\\nи добродетельная мать.\\nдругой!.. нет, никому на свете\\nне отдала бы сердца я!\\nто в вышнем суждено совете…\\nто воля неба: я твоя;\\nвся жизнь моя была залогом\\nсвиданья верного с тобой;\\nя знаю, ты мне послан богом,\\nдо гроба ты хранитель мой…\\nты в сновиденьях мне являлся,\\nнезримый, ты мне был уж мил,\\nтвой чудный взгляд меня томил,\\nв душе твой голос раздавался\\nдавно… нет, это был не сон!\\nты чуть вошел, я вмиг узнала,\\nвся обомлела, запылала\\nи в мыслях молвила: вот он!\\nне правда ль? я тебя слыхала:\\nты говорил со мной в тиши,\\nкогда я бедным помогала\\nили молитвой услаждала\\nтоску волнуемой души?\\nи в это самое мгновенье\\nне ты ли, милое виденье,\\nв прозрачной темноте мелькнул,\\nприникнул тихо к изголовью?\\nне ты ль, с отрадой и любовью,\\nслова надежды мне шепнул?\\nкто ты, мой ангел ли хранитель\\nили коварный искуситель:\\nмои сомненья разреши.\\nбыть может, это всё пустое,\\nобман неопытной души!\\nи суждено совсем иное…\\nно так и быть! судьбу мою\\nотныне я тебе вручаю,\\nперед тобою слезы лью,\\nтвоей защиты умоляю…\\nвообрази: я здесь одна,\\nникто меня не понимает,\\nрассудок мой изнемогает,\\nи молча гибнуть я должна.\\nя жду тебя: единым взором\\nнадежды сердца оживи\\nиль сон тяжелый перерви,\\nувы, заслуженным укором!\\nкончаю! страшно перечесть…\\nстыдом и страхом замираю…\\nно мне порукой ваша честь,\\nи смело ей себя вверяю…', 'а он не едет; он заране\\nписать ко прадедам готов\\nо скорой встрече; а татьяне\\nи дела нет (их пол таков);\\nа он упрям, отстать не хочет,\\nеще надеется, хлопочет;\\nсмелей здорового, больной\\nкнягине слабою рукой\\nон пишет страстное посланье.\\nхоть толку мало вообще\\nон в письмах видел не вотще;\\nно, знать, сердечное страданье\\nуже пришло ему невмочь.\\nвот вам письмо его точь-в-точь.\\n\\n\\nписьмо онегина к татьяне\\n\\nпредвижу всё: вас оскорбит\\nпечальной тайны объясненье.\\nкакое горькое презренье\\nваш гордый взгляд изобразит!\\nчего хочу? с какою целью\\nоткрою душу вам свою?\\nкакому злобному веселью,\\nбыть может, повод подаю!\\n\\nслучайно вас когда-то встретя,\\nв вас искру нежности заметя,\\nя ей поверить не посмел:\\nпривычке милой не дал ходу;\\nсвою постылую свободу\\nя потерять не захотел.\\nеще одно нас разлучило…\\nнесчастной жертвой ленский пал…\\nото всего, что сердцу мило,\\nтогда я сердце оторвал;\\nчужой для всех, ничем не связан,\\nя думал: вольность и покой\\nзамена счастью. боже мой!\\nкак я ошибся, как наказан…\\n\\nнет, поминутно видеть вас,\\nповсюду следовать за вами,\\nулыбку уст, движенье глаз\\nловить влюбленными глазами,\\nвнимать вам долго, понимать\\nдушой все ваше совершенство,\\nпред вами в муках замирать,\\nбледнеть и гаснуть… вот блаженство!\\n\\nи я лишен того: для вас\\nтащусь повсюду наудачу;\\nмне дорог день, мне дорог час:\\nа я в напрасной скуке трачу\\nсудьбой отсчитанные дни.\\nи так уж тягостны они.\\nя знаю: век уж мой измерен;\\nно чтоб продлилась жизнь моя,\\nя утром должен быть уверен,\\nчто с вами днем увижусь я…\\n\\nбоюсь, в мольбе моей смиренной\\nувидит ваш суровый взор\\nзатеи хитрости презренной —\\nи слышу гневный ваш укор.\\nкогда б вы знали, как ужасно\\nтомиться жаждою любви,\\nпылать – и разумом всечасно\\nсмирять волнение в крови;\\nжелать обнять у вас колени\\nи, зарыдав, у ваших ног\\nизлить мольбы, признанья, пени,\\nвсё, всё, что выразить бы мог,\\nа между тем притворным хладом\\nвооружать и речь и взор,\\nвести спокойный разговор,\\nглядеть на вас веселым взглядом!..\\nно так и быть: я сам себе\\nпротивиться не в силах боле;\\nвсё решено: я в вашей воле,\\nи предаюсь моей судьбе.']\n",
            "мама мыла так дальный молодой,\n",
            "без не мог уж поставленья,\n",
            "и так даль с кругом с ним свете для с ним страсти,\n",
            "и так дела с ним прости с ним свете\n",
            "и мой для с ней страсти не свободилась…\n",
            "и в сердце смиренной мой\n",
            "\n",
            "text generation with temperature T = ['письмо татьяны предо мною;\\nего я свято берегу,\\nчитаю с тайною тоскою\\nи начитаться не могу.\\nкто ей внушал и эту нежность,\\nи слов любезную небрежность?\\nкто ей внушал умильный вздор,\\nбезумный сердца разговор,\\nи увлекательный и вредный?\\nя не могу понять. но вот\\nнеполный, слабый перевод,\\nс живой картины список бледный,\\nили разыгранный фрейшиц\\nперстами робких учениц:\\n\\n\\nписьмо татьяны к онегину\\n\\nя к вам пишу – чего же боле?\\nчто я могу еще сказать?\\nтеперь, я знаю, в вашей воле\\nменя презреньем наказать.\\nно вы, к моей несчастной доле\\nхоть каплю жалости храня,\\nвы не оставите меня.\\nсначала я молчать хотела;\\nповерьте: моего стыда\\nвы не узнали б никогда,\\nкогда б надежду я имела\\nхоть редко, хоть в неделю раз\\nв деревне нашей видеть вас,\\nчтоб только слышать ваши речи,\\nвам слово молвить, и потом\\nвсё думать, думать об одном\\nи день и ночь до новой встречи.\\nно говорят, вы нелюдим;\\nв глуши, в деревне всё вам скучно,\\nа мы… ничем мы не блестим,\\nхоть вам и рады простодушно.\\n\\nзачем вы посетили нас?\\nв глуши забытого селенья\\nя никогда не знала б вас,\\nне знала б горького мученья.\\nдуши неопытной волненья\\nсмирив со временем (как знать?),\\nпо сердцу я нашла бы друга,\\nбыла бы верная супруга\\nи добродетельная мать.\\nдругой!.. нет, никому на свете\\nне отдала бы сердца я!\\nто в вышнем суждено совете…\\nто воля неба: я твоя;\\nвся жизнь моя была залогом\\nсвиданья верного с тобой;\\nя знаю, ты мне послан богом,\\nдо гроба ты хранитель мой…\\nты в сновиденьях мне являлся,\\nнезримый, ты мне был уж мил,\\nтвой чудный взгляд меня томил,\\nв душе твой голос раздавался\\nдавно… нет, это был не сон!\\nты чуть вошел, я вмиг узнала,\\nвся обомлела, запылала\\nи в мыслях молвила: вот он!\\nне правда ль? я тебя слыхала:\\nты говорил со мной в тиши,\\nкогда я бедным помогала\\nили молитвой услаждала\\nтоску волнуемой души?\\nи в это самое мгновенье\\nне ты ли, милое виденье,\\nв прозрачной темноте мелькнул,\\nприникнул тихо к изголовью?\\nне ты ль, с отрадой и любовью,\\nслова надежды мне шепнул?\\nкто ты, мой ангел ли хранитель\\nили коварный искуситель:\\nмои сомненья разреши.\\nбыть может, это всё пустое,\\nобман неопытной души!\\nи суждено совсем иное…\\nно так и быть! судьбу мою\\nотныне я тебе вручаю,\\nперед тобою слезы лью,\\nтвоей защиты умоляю…\\nвообрази: я здесь одна,\\nникто меня не понимает,\\nрассудок мой изнемогает,\\nи молча гибнуть я должна.\\nя жду тебя: единым взором\\nнадежды сердца оживи\\nиль сон тяжелый перерви,\\nувы, заслуженным укором!\\nкончаю! страшно перечесть…\\nстыдом и страхом замираю…\\nно мне порукой ваша честь,\\nи смело ей себя вверяю…', 'а он не едет; он заране\\nписать ко прадедам готов\\nо скорой встрече; а татьяне\\nи дела нет (их пол таков);\\nа он упрям, отстать не хочет,\\nеще надеется, хлопочет;\\nсмелей здорового, больной\\nкнягине слабою рукой\\nон пишет страстное посланье.\\nхоть толку мало вообще\\nон в письмах видел не вотще;\\nно, знать, сердечное страданье\\nуже пришло ему невмочь.\\nвот вам письмо его точь-в-точь.\\n\\n\\nписьмо онегина к татьяне\\n\\nпредвижу всё: вас оскорбит\\nпечальной тайны объясненье.\\nкакое горькое презренье\\nваш гордый взгляд изобразит!\\nчего хочу? с какою целью\\nоткрою душу вам свою?\\nкакому злобному веселью,\\nбыть может, повод подаю!\\n\\nслучайно вас когда-то встретя,\\nв вас искру нежности заметя,\\nя ей поверить не посмел:\\nпривычке милой не дал ходу;\\nсвою постылую свободу\\nя потерять не захотел.\\nеще одно нас разлучило…\\nнесчастной жертвой ленский пал…\\nото всего, что сердцу мило,\\nтогда я сердце оторвал;\\nчужой для всех, ничем не связан,\\nя думал: вольность и покой\\nзамена счастью. боже мой!\\nкак я ошибся, как наказан…\\n\\nнет, поминутно видеть вас,\\nповсюду следовать за вами,\\nулыбку уст, движенье глаз\\nловить влюбленными глазами,\\nвнимать вам долго, понимать\\nдушой все ваше совершенство,\\nпред вами в муках замирать,\\nбледнеть и гаснуть… вот блаженство!\\n\\nи я лишен того: для вас\\nтащусь повсюду наудачу;\\nмне дорог день, мне дорог час:\\nа я в напрасной скуке трачу\\nсудьбой отсчитанные дни.\\nи так уж тягостны они.\\nя знаю: век уж мой измерен;\\nно чтоб продлилась жизнь моя,\\nя утром должен быть уверен,\\nчто с вами днем увижусь я…\\n\\nбоюсь, в мольбе моей смиренной\\nувидит ваш суровый взор\\nзатеи хитрости презренной —\\nи слышу гневный ваш укор.\\nкогда б вы знали, как ужасно\\nтомиться жаждою любви,\\nпылать – и разумом всечасно\\nсмирять волнение в крови;\\nжелать обнять у вас колени\\nи, зарыдав, у ваших ног\\nизлить мольбы, признанья, пени,\\nвсё, всё, что выразить бы мог,\\nа между тем притворным хладом\\nвооружать и речь и взор,\\nвести спокойный разговор,\\nглядеть на вас веселым взглядом!..\\nно так и быть: я сам себе\\nпротивиться не в силах боле;\\nвсё решено: я в вашей воле,\\nи предаюсь моей судьбе.']\n",
            "мама мылах,\n",
            "и раздался он он в едет долгом мой дремой\n",
            "и простотов для на судьба ему.\n",
            "но все смиренной красок,\n",
            "за ним в сады не тоской\n",
            "и разговор, бы онегин с ольгой для вас\n",
            "тогда б задали нашей.\n",
            "\n",
            "\n",
            "\n",
            "xlviii\n",
            "\n",
            "так\n",
            "\n",
            "text generation with temperature T = ['письмо татьяны предо мною;\\nего я свято берегу,\\nчитаю с тайною тоскою\\nи начитаться не могу.\\nкто ей внушал и эту нежность,\\nи слов любезную небрежность?\\nкто ей внушал умильный вздор,\\nбезумный сердца разговор,\\nи увлекательный и вредный?\\nя не могу понять. но вот\\nнеполный, слабый перевод,\\nс живой картины список бледный,\\nили разыгранный фрейшиц\\nперстами робких учениц:\\n\\n\\nписьмо татьяны к онегину\\n\\nя к вам пишу – чего же боле?\\nчто я могу еще сказать?\\nтеперь, я знаю, в вашей воле\\nменя презреньем наказать.\\nно вы, к моей несчастной доле\\nхоть каплю жалости храня,\\nвы не оставите меня.\\nсначала я молчать хотела;\\nповерьте: моего стыда\\nвы не узнали б никогда,\\nкогда б надежду я имела\\nхоть редко, хоть в неделю раз\\nв деревне нашей видеть вас,\\nчтоб только слышать ваши речи,\\nвам слово молвить, и потом\\nвсё думать, думать об одном\\nи день и ночь до новой встречи.\\nно говорят, вы нелюдим;\\nв глуши, в деревне всё вам скучно,\\nа мы… ничем мы не блестим,\\nхоть вам и рады простодушно.\\n\\nзачем вы посетили нас?\\nв глуши забытого селенья\\nя никогда не знала б вас,\\nне знала б горького мученья.\\nдуши неопытной волненья\\nсмирив со временем (как знать?),\\nпо сердцу я нашла бы друга,\\nбыла бы верная супруга\\nи добродетельная мать.\\nдругой!.. нет, никому на свете\\nне отдала бы сердца я!\\nто в вышнем суждено совете…\\nто воля неба: я твоя;\\nвся жизнь моя была залогом\\nсвиданья верного с тобой;\\nя знаю, ты мне послан богом,\\nдо гроба ты хранитель мой…\\nты в сновиденьях мне являлся,\\nнезримый, ты мне был уж мил,\\nтвой чудный взгляд меня томил,\\nв душе твой голос раздавался\\nдавно… нет, это был не сон!\\nты чуть вошел, я вмиг узнала,\\nвся обомлела, запылала\\nи в мыслях молвила: вот он!\\nне правда ль? я тебя слыхала:\\nты говорил со мной в тиши,\\nкогда я бедным помогала\\nили молитвой услаждала\\nтоску волнуемой души?\\nи в это самое мгновенье\\nне ты ли, милое виденье,\\nв прозрачной темноте мелькнул,\\nприникнул тихо к изголовью?\\nне ты ль, с отрадой и любовью,\\nслова надежды мне шепнул?\\nкто ты, мой ангел ли хранитель\\nили коварный искуситель:\\nмои сомненья разреши.\\nбыть может, это всё пустое,\\nобман неопытной души!\\nи суждено совсем иное…\\nно так и быть! судьбу мою\\nотныне я тебе вручаю,\\nперед тобою слезы лью,\\nтвоей защиты умоляю…\\nвообрази: я здесь одна,\\nникто меня не понимает,\\nрассудок мой изнемогает,\\nи молча гибнуть я должна.\\nя жду тебя: единым взором\\nнадежды сердца оживи\\nиль сон тяжелый перерви,\\nувы, заслуженным укором!\\nкончаю! страшно перечесть…\\nстыдом и страхом замираю…\\nно мне порукой ваша честь,\\nи смело ей себя вверяю…', 'а он не едет; он заране\\nписать ко прадедам готов\\nо скорой встрече; а татьяне\\nи дела нет (их пол таков);\\nа он упрям, отстать не хочет,\\nеще надеется, хлопочет;\\nсмелей здорового, больной\\nкнягине слабою рукой\\nон пишет страстное посланье.\\nхоть толку мало вообще\\nон в письмах видел не вотще;\\nно, знать, сердечное страданье\\nуже пришло ему невмочь.\\nвот вам письмо его точь-в-точь.\\n\\n\\nписьмо онегина к татьяне\\n\\nпредвижу всё: вас оскорбит\\nпечальной тайны объясненье.\\nкакое горькое презренье\\nваш гордый взгляд изобразит!\\nчего хочу? с какою целью\\nоткрою душу вам свою?\\nкакому злобному веселью,\\nбыть может, повод подаю!\\n\\nслучайно вас когда-то встретя,\\nв вас искру нежности заметя,\\nя ей поверить не посмел:\\nпривычке милой не дал ходу;\\nсвою постылую свободу\\nя потерять не захотел.\\nеще одно нас разлучило…\\nнесчастной жертвой ленский пал…\\nото всего, что сердцу мило,\\nтогда я сердце оторвал;\\nчужой для всех, ничем не связан,\\nя думал: вольность и покой\\nзамена счастью. боже мой!\\nкак я ошибся, как наказан…\\n\\nнет, поминутно видеть вас,\\nповсюду следовать за вами,\\nулыбку уст, движенье глаз\\nловить влюбленными глазами,\\nвнимать вам долго, понимать\\nдушой все ваше совершенство,\\nпред вами в муках замирать,\\nбледнеть и гаснуть… вот блаженство!\\n\\nи я лишен того: для вас\\nтащусь повсюду наудачу;\\nмне дорог день, мне дорог час:\\nа я в напрасной скуке трачу\\nсудьбой отсчитанные дни.\\nи так уж тягостны они.\\nя знаю: век уж мой измерен;\\nно чтоб продлилась жизнь моя,\\nя утром должен быть уверен,\\nчто с вами днем увижусь я…\\n\\nбоюсь, в мольбе моей смиренной\\nувидит ваш суровый взор\\nзатеи хитрости презренной —\\nи слышу гневный ваш укор.\\nкогда б вы знали, как ужасно\\nтомиться жаждою любви,\\nпылать – и разумом всечасно\\nсмирять волнение в крови;\\nжелать обнять у вас колени\\nи, зарыдав, у ваших ног\\nизлить мольбы, признанья, пени,\\nвсё, всё, что выразить бы мог,\\nа между тем притворным хладом\\nвооружать и речь и взор,\\nвести спокойный разговор,\\nглядеть на вас веселым взглядом!..\\nно так и быть: я сам себе\\nпротивиться не в силах боле;\\nвсё решено: я в вашей воле,\\nи предаюсь моей судьбе.']\n",
            "мама мылая нахмодный,\n",
            "блаженствия спокойный и цыть: ты я тайного слыбых супруг братает\n",
            "прошние да тамных разренный,\n",
            "с ключей и разрых явалася,\n",
            "иль бог мир жизни мы ночь круг,\n",
            "илк досан, что не правела погламо \n",
            "\n",
            "text generation with temperature T = ['письмо татьяны предо мною;\\nего я свято берегу,\\nчитаю с тайною тоскою\\nи начитаться не могу.\\nкто ей внушал и эту нежность,\\nи слов любезную небрежность?\\nкто ей внушал умильный вздор,\\nбезумный сердца разговор,\\nи увлекательный и вредный?\\nя не могу понять. но вот\\nнеполный, слабый перевод,\\nс живой картины список бледный,\\nили разыгранный фрейшиц\\nперстами робких учениц:\\n\\n\\nписьмо татьяны к онегину\\n\\nя к вам пишу – чего же боле?\\nчто я могу еще сказать?\\nтеперь, я знаю, в вашей воле\\nменя презреньем наказать.\\nно вы, к моей несчастной доле\\nхоть каплю жалости храня,\\nвы не оставите меня.\\nсначала я молчать хотела;\\nповерьте: моего стыда\\nвы не узнали б никогда,\\nкогда б надежду я имела\\nхоть редко, хоть в неделю раз\\nв деревне нашей видеть вас,\\nчтоб только слышать ваши речи,\\nвам слово молвить, и потом\\nвсё думать, думать об одном\\nи день и ночь до новой встречи.\\nно говорят, вы нелюдим;\\nв глуши, в деревне всё вам скучно,\\nа мы… ничем мы не блестим,\\nхоть вам и рады простодушно.\\n\\nзачем вы посетили нас?\\nв глуши забытого селенья\\nя никогда не знала б вас,\\nне знала б горького мученья.\\nдуши неопытной волненья\\nсмирив со временем (как знать?),\\nпо сердцу я нашла бы друга,\\nбыла бы верная супруга\\nи добродетельная мать.\\nдругой!.. нет, никому на свете\\nне отдала бы сердца я!\\nто в вышнем суждено совете…\\nто воля неба: я твоя;\\nвся жизнь моя была залогом\\nсвиданья верного с тобой;\\nя знаю, ты мне послан богом,\\nдо гроба ты хранитель мой…\\nты в сновиденьях мне являлся,\\nнезримый, ты мне был уж мил,\\nтвой чудный взгляд меня томил,\\nв душе твой голос раздавался\\nдавно… нет, это был не сон!\\nты чуть вошел, я вмиг узнала,\\nвся обомлела, запылала\\nи в мыслях молвила: вот он!\\nне правда ль? я тебя слыхала:\\nты говорил со мной в тиши,\\nкогда я бедным помогала\\nили молитвой услаждала\\nтоску волнуемой души?\\nи в это самое мгновенье\\nне ты ли, милое виденье,\\nв прозрачной темноте мелькнул,\\nприникнул тихо к изголовью?\\nне ты ль, с отрадой и любовью,\\nслова надежды мне шепнул?\\nкто ты, мой ангел ли хранитель\\nили коварный искуситель:\\nмои сомненья разреши.\\nбыть может, это всё пустое,\\nобман неопытной души!\\nи суждено совсем иное…\\nно так и быть! судьбу мою\\nотныне я тебе вручаю,\\nперед тобою слезы лью,\\nтвоей защиты умоляю…\\nвообрази: я здесь одна,\\nникто меня не понимает,\\nрассудок мой изнемогает,\\nи молча гибнуть я должна.\\nя жду тебя: единым взором\\nнадежды сердца оживи\\nиль сон тяжелый перерви,\\nувы, заслуженным укором!\\nкончаю! страшно перечесть…\\nстыдом и страхом замираю…\\nно мне порукой ваша честь,\\nи смело ей себя вверяю…', 'а он не едет; он заране\\nписать ко прадедам готов\\nо скорой встрече; а татьяне\\nи дела нет (их пол таков);\\nа он упрям, отстать не хочет,\\nеще надеется, хлопочет;\\nсмелей здорового, больной\\nкнягине слабою рукой\\nон пишет страстное посланье.\\nхоть толку мало вообще\\nон в письмах видел не вотще;\\nно, знать, сердечное страданье\\nуже пришло ему невмочь.\\nвот вам письмо его точь-в-точь.\\n\\n\\nписьмо онегина к татьяне\\n\\nпредвижу всё: вас оскорбит\\nпечальной тайны объясненье.\\nкакое горькое презренье\\nваш гордый взгляд изобразит!\\nчего хочу? с какою целью\\nоткрою душу вам свою?\\nкакому злобному веселью,\\nбыть может, повод подаю!\\n\\nслучайно вас когда-то встретя,\\nв вас искру нежности заметя,\\nя ей поверить не посмел:\\nпривычке милой не дал ходу;\\nсвою постылую свободу\\nя потерять не захотел.\\nеще одно нас разлучило…\\nнесчастной жертвой ленский пал…\\nото всего, что сердцу мило,\\nтогда я сердце оторвал;\\nчужой для всех, ничем не связан,\\nя думал: вольность и покой\\nзамена счастью. боже мой!\\nкак я ошибся, как наказан…\\n\\nнет, поминутно видеть вас,\\nповсюду следовать за вами,\\nулыбку уст, движенье глаз\\nловить влюбленными глазами,\\nвнимать вам долго, понимать\\nдушой все ваше совершенство,\\nпред вами в муках замирать,\\nбледнеть и гаснуть… вот блаженство!\\n\\nи я лишен того: для вас\\nтащусь повсюду наудачу;\\nмне дорог день, мне дорог час:\\nа я в напрасной скуке трачу\\nсудьбой отсчитанные дни.\\nи так уж тягостны они.\\nя знаю: век уж мой измерен;\\nно чтоб продлилась жизнь моя,\\nя утром должен быть уверен,\\nчто с вами днем увижусь я…\\n\\nбоюсь, в мольбе моей смиренной\\nувидит ваш суровый взор\\nзатеи хитрости презренной —\\nи слышу гневный ваш укор.\\nкогда б вы знали, как ужасно\\nтомиться жаждою любви,\\nпылать – и разумом всечасно\\nсмирять волнение в крови;\\nжелать обнять у вас колени\\nи, зарыдав, у ваших ног\\nизлить мольбы, признанья, пени,\\nвсё, всё, что выразить бы мог,\\nа между тем притворным хладом\\nвооружать и речь и взор,\\nвести спокойный разговор,\\nглядеть на вас веселым взглядом!..\\nно так и быть: я сам себе\\nпротивиться не в силах боле;\\nвсё решено: я в вашей воле,\\nи предаюсь моей судьбе.']\n",
            "мама мыла этаптолдой,\n",
            "как сугдая жар.\n",
            "а я нукуче, мопая, i)\n",
            "гдено вздых, блеча-моя!…» евген…\n",
            "довсе сордылси!\n",
            "гдену, ховтля пылюмаят,\n",
            "всемая чужу: гелубнязных новы! ?avi\n",
            "a vаaшнt\n",
            "н,\n",
            "тавной, нежных язылюбе\n",
            "слыша\n",
            "\n"
          ]
        }
      ],
      "source": [
        "# Text generation with different temperature values here\n",
        "temperatures = [0.1, 0.2, 0.5, 1.0, 2.0]\n",
        "for temperature in temperatures:\n",
        "    print(f\"text generation with temperature T = {temp}\")\n",
        "    print(generate_sample(model, seed_phrase='мама мыла', temperature=temperature, max_length=200))\n",
        "    print()"
      ]
    },
    {
      "cell_type": "markdown",
      "metadata": {
        "id": "0W9_qHQCnL-_"
      },
      "source": [
        "### Saving and loading models"
      ]
    },
    {
      "cell_type": "markdown",
      "metadata": {
        "id": "lh6_k-llnL-_"
      },
      "source": [
        "Save the model to the disk, then load it and generate text. Examples are available [here](https://pytorch.org/tutorials/beginner/saving_loading_models.html])."
      ]
    },
    {
      "cell_type": "code",
      "execution_count": null,
      "metadata": {
        "collapsed": true,
        "id": "u-x-39KInL-_"
      },
      "outputs": [],
      "source": [
        "# Saving and loading code here"
      ]
    },
    {
      "cell_type": "code",
      "source": [
        "lstm_save_dir = \"./saved_models/\"\n",
        "name = \"lstm_poetry\"\n",
        "torch.save(model.state_dict(), lstm_save_dir + name)"
      ],
      "metadata": {
        "id": "Vky5AGNY7ZLZ"
      },
      "execution_count": 81,
      "outputs": []
    },
    {
      "cell_type": "code",
      "source": [
        "downloaded_model = LSTM()\n",
        "downloaded_model.load_state_dict(torch.load(lstm_save_dir + name))\n",
        "print(generate_sample(downloaded_model, temperature=0.2, seed_phrase='у лукоморья', max_length=200))"
      ],
      "metadata": {
        "colab": {
          "base_uri": "https://localhost:8080/"
        },
        "id": "3RT_aXqs76JP",
        "outputId": "f97d4fa9-f248-4ad9-fc9d-f7c4ee7c31a3"
      },
      "execution_count": 82,
      "outputs": [
        {
          "output_type": "stream",
          "name": "stdout",
          "text": [
            "у лукоморья в смелива\n",
            "и мог онегина страсти не мог\n",
            "дали бы в сумася в суждений\n",
            "и так был проститель свете,\n",
            "и так далек так должны подруга,\n",
            "и так для с ним в сумася вашей красавицы\n",
            "с ним страсти не снегенства мой\n"
          ]
        }
      ]
    },
    {
      "cell_type": "markdown",
      "metadata": {
        "id": "8XI0QNimnL-_"
      },
      "source": [
        "### References\n",
        "1. <a href='http://karpathy.github.io/2015/05/21/rnn-effectiveness/'> Andrew Karpathy blog post about RNN. </a>\n",
        "There are several examples of genration: Shakespeare texts, Latex formulas, Linux Sourse Code and children names.\n",
        "2. <a href='https://github.com/karpathy/char-rnn'> Repo with char-rnn code </a>\n",
        "3. Cool repo with PyTorch examples: [link](https://github.com/spro/practical-pytorch`)"
      ]
    }
  ],
  "metadata": {
    "anaconda-cloud": {},
    "kernelspec": {
      "display_name": "Python 3",
      "language": "python",
      "name": "python3"
    },
    "language_info": {
      "codemirror_mode": {
        "name": "ipython",
        "version": 3
      },
      "file_extension": ".py",
      "mimetype": "text/x-python",
      "name": "python",
      "nbconvert_exporter": "python",
      "pygments_lexer": "ipython3",
      "version": "3.7.7"
    },
    "colab": {
      "provenance": []
    },
    "widgets": {
      "application/vnd.jupyter.widget-state+json": {
        "37fe303470974b8fa3275cb20131375f": {
          "model_module": "@jupyter-widgets/controls",
          "model_name": "HBoxModel",
          "model_module_version": "1.5.0",
          "state": {
            "_dom_classes": [],
            "_model_module": "@jupyter-widgets/controls",
            "_model_module_version": "1.5.0",
            "_model_name": "HBoxModel",
            "_view_count": null,
            "_view_module": "@jupyter-widgets/controls",
            "_view_module_version": "1.5.0",
            "_view_name": "HBoxView",
            "box_style": "",
            "children": [
              "IPY_MODEL_28cc9a34002947a88e95939b50e4893b",
              "IPY_MODEL_0b088fdc654047caa6802dd45c3493a5",
              "IPY_MODEL_7caf6fc0e4a740de871238b93977af4f"
            ],
            "layout": "IPY_MODEL_6e9fcd348c064f6d9e38c0a0792f1f33"
          }
        },
        "28cc9a34002947a88e95939b50e4893b": {
          "model_module": "@jupyter-widgets/controls",
          "model_name": "HTMLModel",
          "model_module_version": "1.5.0",
          "state": {
            "_dom_classes": [],
            "_model_module": "@jupyter-widgets/controls",
            "_model_module_version": "1.5.0",
            "_model_name": "HTMLModel",
            "_view_count": null,
            "_view_module": "@jupyter-widgets/controls",
            "_view_module_version": "1.5.0",
            "_view_name": "HTMLView",
            "description": "",
            "description_tooltip": null,
            "layout": "IPY_MODEL_7165f805beaf4d8184e0d1c6d1231867",
            "placeholder": "​",
            "style": "IPY_MODEL_aef1b2ac4c7b40149b6925af05b78466",
            "value": "100%"
          }
        },
        "0b088fdc654047caa6802dd45c3493a5": {
          "model_module": "@jupyter-widgets/controls",
          "model_name": "FloatProgressModel",
          "model_module_version": "1.5.0",
          "state": {
            "_dom_classes": [],
            "_model_module": "@jupyter-widgets/controls",
            "_model_module_version": "1.5.0",
            "_model_name": "FloatProgressModel",
            "_view_count": null,
            "_view_module": "@jupyter-widgets/controls",
            "_view_module_version": "1.5.0",
            "_view_name": "ProgressView",
            "bar_style": "success",
            "description": "",
            "description_tooltip": null,
            "layout": "IPY_MODEL_37a145e0caff4c839bb4736164ba3d08",
            "max": 20,
            "min": 0,
            "orientation": "horizontal",
            "style": "IPY_MODEL_64769b3d2ccc41eb89d5ef1305b20be7",
            "value": 20
          }
        },
        "7caf6fc0e4a740de871238b93977af4f": {
          "model_module": "@jupyter-widgets/controls",
          "model_name": "HTMLModel",
          "model_module_version": "1.5.0",
          "state": {
            "_dom_classes": [],
            "_model_module": "@jupyter-widgets/controls",
            "_model_module_version": "1.5.0",
            "_model_name": "HTMLModel",
            "_view_count": null,
            "_view_module": "@jupyter-widgets/controls",
            "_view_module_version": "1.5.0",
            "_view_name": "HTMLView",
            "description": "",
            "description_tooltip": null,
            "layout": "IPY_MODEL_a6cb4aa316594eefbff2dc2e20c04ae7",
            "placeholder": "​",
            "style": "IPY_MODEL_e9a8185ecd5141bb9634dab61f909bb9",
            "value": " 20/20 [13:59&lt;00:00, 42.10s/it]"
          }
        },
        "6e9fcd348c064f6d9e38c0a0792f1f33": {
          "model_module": "@jupyter-widgets/base",
          "model_name": "LayoutModel",
          "model_module_version": "1.2.0",
          "state": {
            "_model_module": "@jupyter-widgets/base",
            "_model_module_version": "1.2.0",
            "_model_name": "LayoutModel",
            "_view_count": null,
            "_view_module": "@jupyter-widgets/base",
            "_view_module_version": "1.2.0",
            "_view_name": "LayoutView",
            "align_content": null,
            "align_items": null,
            "align_self": null,
            "border": null,
            "bottom": null,
            "display": null,
            "flex": null,
            "flex_flow": null,
            "grid_area": null,
            "grid_auto_columns": null,
            "grid_auto_flow": null,
            "grid_auto_rows": null,
            "grid_column": null,
            "grid_gap": null,
            "grid_row": null,
            "grid_template_areas": null,
            "grid_template_columns": null,
            "grid_template_rows": null,
            "height": null,
            "justify_content": null,
            "justify_items": null,
            "left": null,
            "margin": null,
            "max_height": null,
            "max_width": null,
            "min_height": null,
            "min_width": null,
            "object_fit": null,
            "object_position": null,
            "order": null,
            "overflow": null,
            "overflow_x": null,
            "overflow_y": null,
            "padding": null,
            "right": null,
            "top": null,
            "visibility": null,
            "width": null
          }
        },
        "7165f805beaf4d8184e0d1c6d1231867": {
          "model_module": "@jupyter-widgets/base",
          "model_name": "LayoutModel",
          "model_module_version": "1.2.0",
          "state": {
            "_model_module": "@jupyter-widgets/base",
            "_model_module_version": "1.2.0",
            "_model_name": "LayoutModel",
            "_view_count": null,
            "_view_module": "@jupyter-widgets/base",
            "_view_module_version": "1.2.0",
            "_view_name": "LayoutView",
            "align_content": null,
            "align_items": null,
            "align_self": null,
            "border": null,
            "bottom": null,
            "display": null,
            "flex": null,
            "flex_flow": null,
            "grid_area": null,
            "grid_auto_columns": null,
            "grid_auto_flow": null,
            "grid_auto_rows": null,
            "grid_column": null,
            "grid_gap": null,
            "grid_row": null,
            "grid_template_areas": null,
            "grid_template_columns": null,
            "grid_template_rows": null,
            "height": null,
            "justify_content": null,
            "justify_items": null,
            "left": null,
            "margin": null,
            "max_height": null,
            "max_width": null,
            "min_height": null,
            "min_width": null,
            "object_fit": null,
            "object_position": null,
            "order": null,
            "overflow": null,
            "overflow_x": null,
            "overflow_y": null,
            "padding": null,
            "right": null,
            "top": null,
            "visibility": null,
            "width": null
          }
        },
        "aef1b2ac4c7b40149b6925af05b78466": {
          "model_module": "@jupyter-widgets/controls",
          "model_name": "DescriptionStyleModel",
          "model_module_version": "1.5.0",
          "state": {
            "_model_module": "@jupyter-widgets/controls",
            "_model_module_version": "1.5.0",
            "_model_name": "DescriptionStyleModel",
            "_view_count": null,
            "_view_module": "@jupyter-widgets/base",
            "_view_module_version": "1.2.0",
            "_view_name": "StyleView",
            "description_width": ""
          }
        },
        "37a145e0caff4c839bb4736164ba3d08": {
          "model_module": "@jupyter-widgets/base",
          "model_name": "LayoutModel",
          "model_module_version": "1.2.0",
          "state": {
            "_model_module": "@jupyter-widgets/base",
            "_model_module_version": "1.2.0",
            "_model_name": "LayoutModel",
            "_view_count": null,
            "_view_module": "@jupyter-widgets/base",
            "_view_module_version": "1.2.0",
            "_view_name": "LayoutView",
            "align_content": null,
            "align_items": null,
            "align_self": null,
            "border": null,
            "bottom": null,
            "display": null,
            "flex": null,
            "flex_flow": null,
            "grid_area": null,
            "grid_auto_columns": null,
            "grid_auto_flow": null,
            "grid_auto_rows": null,
            "grid_column": null,
            "grid_gap": null,
            "grid_row": null,
            "grid_template_areas": null,
            "grid_template_columns": null,
            "grid_template_rows": null,
            "height": null,
            "justify_content": null,
            "justify_items": null,
            "left": null,
            "margin": null,
            "max_height": null,
            "max_width": null,
            "min_height": null,
            "min_width": null,
            "object_fit": null,
            "object_position": null,
            "order": null,
            "overflow": null,
            "overflow_x": null,
            "overflow_y": null,
            "padding": null,
            "right": null,
            "top": null,
            "visibility": null,
            "width": null
          }
        },
        "64769b3d2ccc41eb89d5ef1305b20be7": {
          "model_module": "@jupyter-widgets/controls",
          "model_name": "ProgressStyleModel",
          "model_module_version": "1.5.0",
          "state": {
            "_model_module": "@jupyter-widgets/controls",
            "_model_module_version": "1.5.0",
            "_model_name": "ProgressStyleModel",
            "_view_count": null,
            "_view_module": "@jupyter-widgets/base",
            "_view_module_version": "1.2.0",
            "_view_name": "StyleView",
            "bar_color": null,
            "description_width": ""
          }
        },
        "a6cb4aa316594eefbff2dc2e20c04ae7": {
          "model_module": "@jupyter-widgets/base",
          "model_name": "LayoutModel",
          "model_module_version": "1.2.0",
          "state": {
            "_model_module": "@jupyter-widgets/base",
            "_model_module_version": "1.2.0",
            "_model_name": "LayoutModel",
            "_view_count": null,
            "_view_module": "@jupyter-widgets/base",
            "_view_module_version": "1.2.0",
            "_view_name": "LayoutView",
            "align_content": null,
            "align_items": null,
            "align_self": null,
            "border": null,
            "bottom": null,
            "display": null,
            "flex": null,
            "flex_flow": null,
            "grid_area": null,
            "grid_auto_columns": null,
            "grid_auto_flow": null,
            "grid_auto_rows": null,
            "grid_column": null,
            "grid_gap": null,
            "grid_row": null,
            "grid_template_areas": null,
            "grid_template_columns": null,
            "grid_template_rows": null,
            "height": null,
            "justify_content": null,
            "justify_items": null,
            "left": null,
            "margin": null,
            "max_height": null,
            "max_width": null,
            "min_height": null,
            "min_width": null,
            "object_fit": null,
            "object_position": null,
            "order": null,
            "overflow": null,
            "overflow_x": null,
            "overflow_y": null,
            "padding": null,
            "right": null,
            "top": null,
            "visibility": null,
            "width": null
          }
        },
        "e9a8185ecd5141bb9634dab61f909bb9": {
          "model_module": "@jupyter-widgets/controls",
          "model_name": "DescriptionStyleModel",
          "model_module_version": "1.5.0",
          "state": {
            "_model_module": "@jupyter-widgets/controls",
            "_model_module_version": "1.5.0",
            "_model_name": "DescriptionStyleModel",
            "_view_count": null,
            "_view_module": "@jupyter-widgets/base",
            "_view_module_version": "1.2.0",
            "_view_name": "StyleView",
            "description_width": ""
          }
        },
        "32e671fbc8ee45a4a6777c15fa92db78": {
          "model_module": "@jupyter-widgets/controls",
          "model_name": "HBoxModel",
          "model_module_version": "1.5.0",
          "state": {
            "_dom_classes": [],
            "_model_module": "@jupyter-widgets/controls",
            "_model_module_version": "1.5.0",
            "_model_name": "HBoxModel",
            "_view_count": null,
            "_view_module": "@jupyter-widgets/controls",
            "_view_module_version": "1.5.0",
            "_view_name": "HBoxView",
            "box_style": "",
            "children": [
              "IPY_MODEL_98bfae61fd7b4d7a9c470ec30c50fb2c",
              "IPY_MODEL_b36ee55c6cdd4fd49f08d3bffab739d5",
              "IPY_MODEL_07d9149ae8c74713b6e9b56e701ae49e"
            ],
            "layout": "IPY_MODEL_2621815892b54f9fb0af81c7ad0f7688"
          }
        },
        "98bfae61fd7b4d7a9c470ec30c50fb2c": {
          "model_module": "@jupyter-widgets/controls",
          "model_name": "HTMLModel",
          "model_module_version": "1.5.0",
          "state": {
            "_dom_classes": [],
            "_model_module": "@jupyter-widgets/controls",
            "_model_module_version": "1.5.0",
            "_model_name": "HTMLModel",
            "_view_count": null,
            "_view_module": "@jupyter-widgets/controls",
            "_view_module_version": "1.5.0",
            "_view_name": "HTMLView",
            "description": "",
            "description_tooltip": null,
            "layout": "IPY_MODEL_e47121c88983494db07416ec17045119",
            "placeholder": "​",
            "style": "IPY_MODEL_1fb27f55dd25407c9f56f31cde3ae099",
            "value": "100%"
          }
        },
        "b36ee55c6cdd4fd49f08d3bffab739d5": {
          "model_module": "@jupyter-widgets/controls",
          "model_name": "FloatProgressModel",
          "model_module_version": "1.5.0",
          "state": {
            "_dom_classes": [],
            "_model_module": "@jupyter-widgets/controls",
            "_model_module_version": "1.5.0",
            "_model_name": "FloatProgressModel",
            "_view_count": null,
            "_view_module": "@jupyter-widgets/controls",
            "_view_module_version": "1.5.0",
            "_view_name": "ProgressView",
            "bar_style": "success",
            "description": "",
            "description_tooltip": null,
            "layout": "IPY_MODEL_52b03531b2544bb8a321cc716f4fe532",
            "max": 20,
            "min": 0,
            "orientation": "horizontal",
            "style": "IPY_MODEL_eb1bacccdfe9474085e392fae5aa756b",
            "value": 20
          }
        },
        "07d9149ae8c74713b6e9b56e701ae49e": {
          "model_module": "@jupyter-widgets/controls",
          "model_name": "HTMLModel",
          "model_module_version": "1.5.0",
          "state": {
            "_dom_classes": [],
            "_model_module": "@jupyter-widgets/controls",
            "_model_module_version": "1.5.0",
            "_model_name": "HTMLModel",
            "_view_count": null,
            "_view_module": "@jupyter-widgets/controls",
            "_view_module_version": "1.5.0",
            "_view_name": "HTMLView",
            "description": "",
            "description_tooltip": null,
            "layout": "IPY_MODEL_5b39de168f194cb79353b41e9975c478",
            "placeholder": "​",
            "style": "IPY_MODEL_78a17584201343ff8d1fa0b9566df05a",
            "value": " 20/20 [30:11&lt;00:00, 93.11s/it]"
          }
        },
        "2621815892b54f9fb0af81c7ad0f7688": {
          "model_module": "@jupyter-widgets/base",
          "model_name": "LayoutModel",
          "model_module_version": "1.2.0",
          "state": {
            "_model_module": "@jupyter-widgets/base",
            "_model_module_version": "1.2.0",
            "_model_name": "LayoutModel",
            "_view_count": null,
            "_view_module": "@jupyter-widgets/base",
            "_view_module_version": "1.2.0",
            "_view_name": "LayoutView",
            "align_content": null,
            "align_items": null,
            "align_self": null,
            "border": null,
            "bottom": null,
            "display": null,
            "flex": null,
            "flex_flow": null,
            "grid_area": null,
            "grid_auto_columns": null,
            "grid_auto_flow": null,
            "grid_auto_rows": null,
            "grid_column": null,
            "grid_gap": null,
            "grid_row": null,
            "grid_template_areas": null,
            "grid_template_columns": null,
            "grid_template_rows": null,
            "height": null,
            "justify_content": null,
            "justify_items": null,
            "left": null,
            "margin": null,
            "max_height": null,
            "max_width": null,
            "min_height": null,
            "min_width": null,
            "object_fit": null,
            "object_position": null,
            "order": null,
            "overflow": null,
            "overflow_x": null,
            "overflow_y": null,
            "padding": null,
            "right": null,
            "top": null,
            "visibility": null,
            "width": null
          }
        },
        "e47121c88983494db07416ec17045119": {
          "model_module": "@jupyter-widgets/base",
          "model_name": "LayoutModel",
          "model_module_version": "1.2.0",
          "state": {
            "_model_module": "@jupyter-widgets/base",
            "_model_module_version": "1.2.0",
            "_model_name": "LayoutModel",
            "_view_count": null,
            "_view_module": "@jupyter-widgets/base",
            "_view_module_version": "1.2.0",
            "_view_name": "LayoutView",
            "align_content": null,
            "align_items": null,
            "align_self": null,
            "border": null,
            "bottom": null,
            "display": null,
            "flex": null,
            "flex_flow": null,
            "grid_area": null,
            "grid_auto_columns": null,
            "grid_auto_flow": null,
            "grid_auto_rows": null,
            "grid_column": null,
            "grid_gap": null,
            "grid_row": null,
            "grid_template_areas": null,
            "grid_template_columns": null,
            "grid_template_rows": null,
            "height": null,
            "justify_content": null,
            "justify_items": null,
            "left": null,
            "margin": null,
            "max_height": null,
            "max_width": null,
            "min_height": null,
            "min_width": null,
            "object_fit": null,
            "object_position": null,
            "order": null,
            "overflow": null,
            "overflow_x": null,
            "overflow_y": null,
            "padding": null,
            "right": null,
            "top": null,
            "visibility": null,
            "width": null
          }
        },
        "1fb27f55dd25407c9f56f31cde3ae099": {
          "model_module": "@jupyter-widgets/controls",
          "model_name": "DescriptionStyleModel",
          "model_module_version": "1.5.0",
          "state": {
            "_model_module": "@jupyter-widgets/controls",
            "_model_module_version": "1.5.0",
            "_model_name": "DescriptionStyleModel",
            "_view_count": null,
            "_view_module": "@jupyter-widgets/base",
            "_view_module_version": "1.2.0",
            "_view_name": "StyleView",
            "description_width": ""
          }
        },
        "52b03531b2544bb8a321cc716f4fe532": {
          "model_module": "@jupyter-widgets/base",
          "model_name": "LayoutModel",
          "model_module_version": "1.2.0",
          "state": {
            "_model_module": "@jupyter-widgets/base",
            "_model_module_version": "1.2.0",
            "_model_name": "LayoutModel",
            "_view_count": null,
            "_view_module": "@jupyter-widgets/base",
            "_view_module_version": "1.2.0",
            "_view_name": "LayoutView",
            "align_content": null,
            "align_items": null,
            "align_self": null,
            "border": null,
            "bottom": null,
            "display": null,
            "flex": null,
            "flex_flow": null,
            "grid_area": null,
            "grid_auto_columns": null,
            "grid_auto_flow": null,
            "grid_auto_rows": null,
            "grid_column": null,
            "grid_gap": null,
            "grid_row": null,
            "grid_template_areas": null,
            "grid_template_columns": null,
            "grid_template_rows": null,
            "height": null,
            "justify_content": null,
            "justify_items": null,
            "left": null,
            "margin": null,
            "max_height": null,
            "max_width": null,
            "min_height": null,
            "min_width": null,
            "object_fit": null,
            "object_position": null,
            "order": null,
            "overflow": null,
            "overflow_x": null,
            "overflow_y": null,
            "padding": null,
            "right": null,
            "top": null,
            "visibility": null,
            "width": null
          }
        },
        "eb1bacccdfe9474085e392fae5aa756b": {
          "model_module": "@jupyter-widgets/controls",
          "model_name": "ProgressStyleModel",
          "model_module_version": "1.5.0",
          "state": {
            "_model_module": "@jupyter-widgets/controls",
            "_model_module_version": "1.5.0",
            "_model_name": "ProgressStyleModel",
            "_view_count": null,
            "_view_module": "@jupyter-widgets/base",
            "_view_module_version": "1.2.0",
            "_view_name": "StyleView",
            "bar_color": null,
            "description_width": ""
          }
        },
        "5b39de168f194cb79353b41e9975c478": {
          "model_module": "@jupyter-widgets/base",
          "model_name": "LayoutModel",
          "model_module_version": "1.2.0",
          "state": {
            "_model_module": "@jupyter-widgets/base",
            "_model_module_version": "1.2.0",
            "_model_name": "LayoutModel",
            "_view_count": null,
            "_view_module": "@jupyter-widgets/base",
            "_view_module_version": "1.2.0",
            "_view_name": "LayoutView",
            "align_content": null,
            "align_items": null,
            "align_self": null,
            "border": null,
            "bottom": null,
            "display": null,
            "flex": null,
            "flex_flow": null,
            "grid_area": null,
            "grid_auto_columns": null,
            "grid_auto_flow": null,
            "grid_auto_rows": null,
            "grid_column": null,
            "grid_gap": null,
            "grid_row": null,
            "grid_template_areas": null,
            "grid_template_columns": null,
            "grid_template_rows": null,
            "height": null,
            "justify_content": null,
            "justify_items": null,
            "left": null,
            "margin": null,
            "max_height": null,
            "max_width": null,
            "min_height": null,
            "min_width": null,
            "object_fit": null,
            "object_position": null,
            "order": null,
            "overflow": null,
            "overflow_x": null,
            "overflow_y": null,
            "padding": null,
            "right": null,
            "top": null,
            "visibility": null,
            "width": null
          }
        },
        "78a17584201343ff8d1fa0b9566df05a": {
          "model_module": "@jupyter-widgets/controls",
          "model_name": "DescriptionStyleModel",
          "model_module_version": "1.5.0",
          "state": {
            "_model_module": "@jupyter-widgets/controls",
            "_model_module_version": "1.5.0",
            "_model_name": "DescriptionStyleModel",
            "_view_count": null,
            "_view_module": "@jupyter-widgets/base",
            "_view_module_version": "1.2.0",
            "_view_name": "StyleView",
            "description_width": ""
          }
        }
      }
    }
  },
  "nbformat": 4,
  "nbformat_minor": 0
}